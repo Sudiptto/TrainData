{
 "cells": [
  {
   "cell_type": "code",
   "execution_count": 1,
   "metadata": {},
   "outputs": [],
   "source": [
    "import pandas as pd\n",
    "import openpyxl\n",
    "\n",
    "# Replace 'your_file.xlsx' with the path to your Excel file\n",
    "q1_file = '../../rawdata/q1_2023_evasion.csv'\n",
    "q2_file = '../../rawdata/q2_2023_evasion.csv'\n",
    "q3_file = '../../rawdata/q3_2023_evasion.csv'\n",
    "q4_file = '../../rawdata/q4_2023_evasion.csv'\n",
    "\n",
    "# Read the Excel file\n",
    "df_q1 = pd.read_csv(q1_file)\n",
    "df_q2 = pd.read_csv(q2_file)\n",
    "df_q3 = pd.read_csv(q3_file)\n",
    "df_q4 = pd.read_csv(q4_file)"
   ]
  },
  {
   "cell_type": "code",
   "execution_count": 2,
   "metadata": {},
   "outputs": [],
   "source": [
    "# Find common rows based on the 'station' column across all quarters\n",
    "common_stations = set(df_q1['station']).intersection(df_q2['station'], df_q3['station'], df_q4['station'])\n",
    "\n",
    "# Filter each DataFrame to retain only the rows with stations present in all quarters\n",
    "df_q1_filtered = df_q1[df_q1['station'].isin(common_stations)]\n",
    "df_q2_filtered = df_q2[df_q2['station'].isin(common_stations)]\n",
    "df_q3_filtered = df_q3[df_q3['station'].isin(common_stations)]\n",
    "df_q4_filtered = df_q4[df_q4['station'].isin(common_stations)]\n",
    "\n",
    "# Optionally, save the filtered datasets\n",
    "df_q1_filtered.to_csv('filtered_q1_common_stations.csv', index=False)\n",
    "df_q2_filtered.to_csv('filtered_q2_common_stations.csv', index=False)\n",
    "df_q3_filtered.to_csv('filtered_q3_common_stations.csv', index=False)\n",
    "df_q4_filtered.to_csv('filtered_q4_common_stations.csv', index=False)"
   ]
  },
  {
   "cell_type": "code",
   "execution_count": 4,
   "metadata": {},
   "outputs": [
    {
     "name": "stdout",
     "output_type": "stream",
     "text": [
      "Summed dataset saved as 'summed_station_data.csv'.\n"
     ]
    }
   ],
   "source": [
    "combined_df = pd.concat([df_q1_filtered, df_q2_filtered, df_q3_filtered, df_q4_filtered])\n",
    "#sums up by station (common column)\n",
    "summed_df = combined_df.groupby('station').sum().reset_index()\n",
    "\n",
    "summed_df.to_csv('fare_evasion_summed.csv', index=False)\n",
    "print(\"Summed dataset saved as 'summed_station_data.csv'.\")\n",
    "\n",
    "#also for some reason there were rows like \"Q\", \"R\", \"S\", for subway lines so theyre gone\n",
    "#also revmoed stuff that isnt a station"
   ]
  }
 ],
 "metadata": {
  "kernelspec": {
   "display_name": "Python 3",
   "language": "python",
   "name": "python3"
  },
  "language_info": {
   "codemirror_mode": {
    "name": "ipython",
    "version": 3
   },
   "file_extension": ".py",
   "mimetype": "text/x-python",
   "name": "python",
   "nbconvert_exporter": "python",
   "pygments_lexer": "ipython3",
   "version": "3.12.5"
  }
 },
 "nbformat": 4,
 "nbformat_minor": 2
}
