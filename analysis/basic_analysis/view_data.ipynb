{
 "cells": [
  {
   "cell_type": "code",
   "execution_count": 14,
   "metadata": {},
   "outputs": [],
   "source": [
    "import pandas as pd\n",
    "import openpyxl\n",
    "\n",
    "# Replace 'your_file.xlsx' with the path to your Excel file\n",
    "file_path = '../../rawdata/q4_2023_evasion.csv'\n",
    "\n",
    "# Read the Excel file\n",
    "df = pd.read_csv(file_path)\n",
    "\n",
    "\n",
    "#filtering stations so that its just station complex (individual lines ignored)\n",
    "df_filtered = df[~df['station'].str.contains(',', na=False) & (df['station'].str.len() > 1)]\n",
    "\n",
    "# Reset the index of the filtered DataFrame\n",
    "df_filtered.reset_index(drop=True, inplace=True)\n",
    "\n",
    "# Save the DataFrame to a new CSV file\n",
    "df_filtered.to_csv('filtered_q4_2023.csv', index=False)\n"
   ]
  },
  {
   "cell_type": "code",
   "execution_count": null,
   "metadata": {},
   "outputs": [],
   "source": [
    "#row separation to filter rows not present in another"
   ]
  }
 ],
 "metadata": {
  "kernelspec": {
   "display_name": "Python 3",
   "language": "python",
   "name": "python3"
  },
  "language_info": {
   "codemirror_mode": {
    "name": "ipython",
    "version": 3
   },
   "file_extension": ".py",
   "mimetype": "text/x-python",
   "name": "python",
   "nbconvert_exporter": "python",
   "pygments_lexer": "ipython3",
   "version": "3.12.5"
  }
 },
 "nbformat": 4,
 "nbformat_minor": 2
}
