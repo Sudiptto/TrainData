{
 "cells": [
  {
   "cell_type": "code",
   "execution_count": 10,
   "metadata": {},
   "outputs": [],
   "source": [
    "import pandas as pd\n",
    "import openpyxl\n",
    "\n",
    "# Replace 'your_file.xlsx' with the path to your Excel file\n",
    "file_path = 'fareevasiondata/faremodded.csv'\n",
    "\n",
    "# Read the Excel file\n",
    "df = pd.read_csv(file_path)\n",
    "\n",
    "\n",
    "\n",
    "df_filtered = df[~df['Station'].str.contains(',', na=False) & (df['Station'].str.len() > 1)]\n",
    "\n",
    "# Reset the index of the filtered DataFrame\n",
    "df_filtered.reset_index(drop=True, inplace=True)\n",
    "\n",
    "# Save the DataFrame to a new CSV file\n",
    "df_filtered.to_csv('filtered_fare_evasion.csv', index=False)\n"
   ]
  }
 ],
 "metadata": {
  "kernelspec": {
   "display_name": "Python 3",
   "language": "python",
   "name": "python3"
  },
  "language_info": {
   "codemirror_mode": {
    "name": "ipython",
    "version": 3
   },
   "file_extension": ".py",
   "mimetype": "text/x-python",
   "name": "python",
   "nbconvert_exporter": "python",
   "pygments_lexer": "ipython3",
   "version": "3.12.5"
  }
 },
 "nbformat": 4,
 "nbformat_minor": 2
}
